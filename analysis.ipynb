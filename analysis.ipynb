{
 "cells": [
  {
   "metadata": {},
   "cell_type": "markdown",
   "source": "Load packages",
   "id": "b9927be27389e32b"
  },
  {
   "cell_type": "code",
   "id": "initial_id",
   "metadata": {
    "collapsed": true,
    "ExecuteTime": {
     "end_time": "2024-08-15T22:49:05.019969Z",
     "start_time": "2024-08-15T22:49:05.017319Z"
    }
   },
   "source": [
    "import matplotlib\n",
    "import os\n",
    "import matplotlib.pyplot as plt\n",
    "import numpy as np\n",
    "import pandas as pd\n",
    "import json"
   ],
   "outputs": [],
   "execution_count": 68
  },
  {
   "metadata": {},
   "cell_type": "markdown",
   "source": "Experiment Directory",
   "id": "aa87867b813d3240"
  },
  {
   "metadata": {
    "ExecuteTime": {
     "end_time": "2024-08-15T22:49:05.604580Z",
     "start_time": "2024-08-15T22:49:05.598814Z"
    }
   },
   "cell_type": "code",
   "source": [
    "current_dir = os.getcwd()\n",
    "experiment_name = 'example'\n",
    "experiment_dir = current_dir + '/sorted_cell/' "
   ],
   "id": "aa85497ebe2cf70b",
   "outputs": [],
   "execution_count": 69
  },
  {
   "metadata": {},
   "cell_type": "markdown",
   "source": "## Single Cell Analysis",
   "id": "9cc45039df4a6a9e"
  },
  {
   "metadata": {},
   "cell_type": "markdown",
   "source": "Load Cell directory",
   "id": "4c5489e4a542c46e"
  },
  {
   "metadata": {
    "ExecuteTime": {
     "end_time": "2024-08-15T22:49:06.739775Z",
     "start_time": "2024-08-15T22:49:06.735260Z"
    }
   },
   "cell_type": "code",
   "source": [
    "cell_number_to_analysis = 1\n",
    "cell_dir = experiment_dir + '/' + 'cell_' + str(cell_number_to_analysis) + '.json'"
   ],
   "id": "b7e18a9fdfad8ca0",
   "outputs": [],
   "execution_count": 70
  },
  {
   "metadata": {},
   "cell_type": "markdown",
   "source": "Load Cell",
   "id": "230f6327d578dd75"
  },
  {
   "metadata": {
    "ExecuteTime": {
     "end_time": "2024-08-15T22:49:08.000175Z",
     "start_time": "2024-08-15T22:49:07.993642Z"
    }
   },
   "cell_type": "code",
   "source": "cell_df = pd.read_json(cell_dir)",
   "id": "8138c0f628065f2e",
   "outputs": [],
   "execution_count": 71
  },
  {
   "metadata": {
    "ExecuteTime": {
     "end_time": "2024-08-15T22:49:08.584736Z",
     "start_time": "2024-08-15T22:49:08.579097Z"
    }
   },
   "cell_type": "code",
   "source": "print(cell_df.head())",
   "id": "11b9e2af36bd78e4",
   "outputs": [
    {
     "name": "stdout",
     "output_type": "stream",
     "text": [
      "                                       frames\n",
      "0   {'frame': 0, 'ID': 1, 'x': 606, 'y': 446}\n",
      "1   {'frame': 0, 'ID': 1, 'x': 606, 'y': 446}\n",
      "2  {'frame': 1, 'ID': 584, 'x': 463, 'y': 59}\n",
      "3  {'frame': 2, 'ID': 605, 'x': 446, 'y': 59}\n",
      "4  {'frame': 3, 'ID': 597, 'x': 428, 'y': 59}\n"
     ]
    }
   ],
   "execution_count": 72
  },
  {
   "metadata": {
    "ExecuteTime": {
     "end_time": "2024-08-15T22:49:09.017466Z",
     "start_time": "2024-08-15T22:49:09.013226Z"
    }
   },
   "cell_type": "code",
   "source": "print(cell_df['frames'])",
   "id": "d2c0524811f3cbef",
   "outputs": [
    {
     "name": "stdout",
     "output_type": "stream",
     "text": [
      "0       {'frame': 0, 'ID': 1, 'x': 606, 'y': 446}\n",
      "1       {'frame': 0, 'ID': 1, 'x': 606, 'y': 446}\n",
      "2      {'frame': 1, 'ID': 584, 'x': 463, 'y': 59}\n",
      "3      {'frame': 2, 'ID': 605, 'x': 446, 'y': 59}\n",
      "4      {'frame': 3, 'ID': 597, 'x': 428, 'y': 59}\n",
      "5       {'frame': 4, 'ID': 85, 'x': 397, 'y': 28}\n",
      "6      {'frame': 5, 'ID': 425, 'x': 376, 'y': 28}\n",
      "7      {'frame': 6, 'ID': 429, 'x': 365, 'y': 22}\n",
      "8      {'frame': 7, 'ID': 579, 'x': 328, 'y': 22}\n",
      "9       {'frame': 8, 'ID': 99, 'x': 316, 'y': 35}\n",
      "10      {'frame': 9, 'ID': 73, 'x': 301, 'y': 22}\n",
      "11    {'frame': 10, 'ID': 466, 'x': 279, 'y': 22}\n",
      "12     {'frame': 11, 'ID': 153, 'x': 259, 'y': 8}\n",
      "13     {'frame': 12, 'ID': 592, 'x': 237, 'y': 8}\n",
      "14    {'frame': 13, 'ID': 493, 'x': 218, 'y': 40}\n",
      "15    {'frame': 14, 'ID': 481, 'x': 213, 'y': 40}\n",
      "16    {'frame': 15, 'ID': 440, 'x': 195, 'y': 46}\n",
      "17    {'frame': 16, 'ID': 395, 'x': 177, 'y': 49}\n",
      "18     {'frame': 17, 'ID': 41, 'x': 169, 'y': 45}\n",
      "19    {'frame': 18, 'ID': 128, 'x': 155, 'y': 55}\n",
      "20    {'frame': 19, 'ID': 178, 'x': 132, 'y': 35}\n",
      "21    {'frame': 20, 'ID': 269, 'x': 123, 'y': 24}\n",
      "22    {'frame': 21, 'ID': 130, 'x': 123, 'y': 22}\n",
      "23    {'frame': 22, 'ID': 475, 'x': 100, 'y': 22}\n",
      "24     {'frame': 23, 'ID': 469, 'x': 89, 'y': 22}\n",
      "25     {'frame': 24, 'ID': 417, 'x': 85, 'y': 22}\n",
      "26     {'frame': 25, 'ID': 370, 'x': 75, 'y': 22}\n",
      "27     {'frame': 26, 'ID': 548, 'x': 51, 'y': 22}\n",
      "28      {'frame': 27, 'ID': 83, 'x': 41, 'y': 22}\n",
      "29     {'frame': 28, 'ID': 459, 'x': 30, 'y': 22}\n",
      "30     {'frame': 29, 'ID': 623, 'x': 29, 'y': 22}\n",
      "31      {'frame': 30, 'ID': 86, 'x': 25, 'y': 22}\n",
      "32      {'frame': 31, 'ID': 428, 'x': 4, 'y': 22}\n",
      "Name: frames, dtype: object\n"
     ]
    }
   ],
   "execution_count": 73
  },
  {
   "metadata": {
    "ExecuteTime": {
     "end_time": "2024-08-15T22:49:09.470285Z",
     "start_time": "2024-08-15T22:49:09.467393Z"
    }
   },
   "cell_type": "code",
   "source": "print(type(cell_df['frames']))",
   "id": "d64483d755f27f62",
   "outputs": [
    {
     "name": "stdout",
     "output_type": "stream",
     "text": [
      "<class 'pandas.core.series.Series'>\n"
     ]
    }
   ],
   "execution_count": 74
  },
  {
   "metadata": {
    "ExecuteTime": {
     "end_time": "2024-08-15T22:49:09.890604Z",
     "start_time": "2024-08-15T22:49:09.887932Z"
    }
   },
   "cell_type": "code",
   "source": "print(cell_df['frames'].iloc[1])",
   "id": "e0925ce68e585a5b",
   "outputs": [
    {
     "name": "stdout",
     "output_type": "stream",
     "text": [
      "{'frame': 0, 'ID': 1, 'x': 606, 'y': 446}\n"
     ]
    }
   ],
   "execution_count": 75
  },
  {
   "metadata": {
    "ExecuteTime": {
     "end_time": "2024-08-15T22:49:10.338027Z",
     "start_time": "2024-08-15T22:49:10.335395Z"
    }
   },
   "cell_type": "code",
   "source": "print(type(cell_df['frames'].iloc[1]))",
   "id": "5fdf6a8eb7dedad3",
   "outputs": [
    {
     "name": "stdout",
     "output_type": "stream",
     "text": [
      "<class 'dict'>\n"
     ]
    }
   ],
   "execution_count": 76
  },
  {
   "metadata": {
    "ExecuteTime": {
     "end_time": "2024-08-15T22:49:10.668169Z",
     "start_time": "2024-08-15T22:49:10.665127Z"
    }
   },
   "cell_type": "code",
   "source": [
    "print((cell_df['frames'].iloc[1])['x'])\n",
    "print((cell_df['frames'].iloc[1])['y'])"
   ],
   "id": "a312892945297d52",
   "outputs": [
    {
     "name": "stdout",
     "output_type": "stream",
     "text": [
      "606\n",
      "446\n"
     ]
    }
   ],
   "execution_count": 77
  },
  {
   "metadata": {
    "ExecuteTime": {
     "end_time": "2024-08-15T22:49:11.152476Z",
     "start_time": "2024-08-15T22:49:11.052117Z"
    }
   },
   "cell_type": "code",
   "source": [
    "# Create scatter plot using a for loop\n",
    "plt.figure(figsize=(10, 6))\n",
    "# Define colormap\n",
    "cmap = plt.get_cmap('viridis')\n",
    "norm = plt.Normalize(0, 20)\n",
    "for i in range(30):\n",
    "    x = cell_df['frames'].iloc[i]['x']\n",
    "    y = cell_df['frames'].iloc[i]['y']\n",
    "    plt.scatter(x, y, color=cmap(norm(i)), alpha=0.6, edgecolors='w', linewidth=0.5)\n",
    "\n",
    "plt.title('Scatter plot of the cell trajectory')\n",
    "plt.xlabel('X-axis')\n",
    "plt.ylabel('Y-axis')\n",
    "plt.show()"
   ],
   "id": "59bac2cc41cec309",
   "outputs": [
    {
     "data": {
      "text/plain": [
       "<Figure size 1000x600 with 1 Axes>"
      ],
      "image/png": "[encoded data removed]"
     },
     "metadata": {},
     "output_type": "display_data"
    }
   ],
   "execution_count": 78
  }
 ],
 "metadata": {
  "kernelspec": {
   "display_name": "Python 3",
   "language": "python",
   "name": "python3"
  },
  "language_info": {
   "codemirror_mode": {
    "name": "ipython",
    "version": 2
   },
   "file_extension": ".py",
   "mimetype": "text/x-python",
   "name": "python",
   "nbconvert_exporter": "python",
   "pygments_lexer": "ipython2",
   "version": "2.7.6"
  }
 },
 "nbformat": 4,
 "nbformat_minor": 5
}
